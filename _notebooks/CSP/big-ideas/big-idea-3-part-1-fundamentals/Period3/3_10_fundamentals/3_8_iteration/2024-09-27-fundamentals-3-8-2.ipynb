{
 "cells": [
  {
   "cell_type": "raw",
   "metadata": {},
   "source": [
    "---\n",
    "layout: post\n",
    "title: \"3.8 Popcorn hack 2\"\n",
    "description: My subsection for 3.8 group project\n",
    "permalink: /popcorn2/\n",
    "type: issues\n",
    "author: Armaghan, Elliot, Nikhil, and Hithin\n",
    "comments: true\n",
    "---"
   ]
  },
  {
   "cell_type": "markdown",
   "metadata": {},
   "source": [
    "## Popcorn Hack 2"
   ]
  },
  {
   "cell_type": "code",
   "execution_count": 1,
   "metadata": {},
   "outputs": [
    {
     "name": "stdout",
     "output_type": "stream",
     "text": [
      "Numbers divisible by 3:\n",
      "6\n",
      "3\n",
      "9\n",
      "12\n",
      "15\n"
     ]
    }
   ],
   "source": [
    "# Create an empty list\n",
    "nums = []\n",
    "\n",
    "# Get user input for how many numbers they want to add\n",
    "num_of_inputs = int(input(\"How many numbers do you want to add to the list? \"))\n",
    "\n",
    "# Use a loop to get inputs and append them to the list\n",
    "for _ in range(num_of_inputs):\n",
    "    number = int(input(\"Enter a number: \"))\n",
    "    nums.append(number)\n",
    "\n",
    "# Use a for loop to iterate through the list and check divisibility by 3\n",
    "print(\"Numbers divisible by 3:\")\n",
    "for num in nums:\n",
    "    if num % 3 == 0:  # Nested if statement to check divisibility by 3\n",
    "        print(num)"
   ]
  },
  {
   "cell_type": "markdown",
   "metadata": {},
   "source": [
    "- Find numbers divisible by 2."
   ]
  }
 ],
 "metadata": {
  "kernelspec": {
   "display_name": "venv",
   "language": "python",
   "name": "python3"
  },
  "language_info": {
   "codemirror_mode": {
    "name": "ipython",
    "version": 3
   },
   "file_extension": ".py",
   "mimetype": "text/x-python",
   "name": "python",
   "nbconvert_exporter": "python",
   "pygments_lexer": "ipython3",
   "version": "3.12.6"
  }
 },
 "nbformat": 4,
 "nbformat_minor": 2
}
