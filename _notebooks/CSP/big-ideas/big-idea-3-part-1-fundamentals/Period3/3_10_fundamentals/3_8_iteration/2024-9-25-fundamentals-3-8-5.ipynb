{
 "cells": [
  {
   "cell_type": "markdown",
   "metadata": {},
   "source": [
    "--- \n",
    "layout: page\n",
    "title: Looping with Index\n",
    "description: plan\n",
    "hide: false\n",
    "---"
   ]
  },
  {
   "cell_type": "markdown",
   "metadata": {},
   "source": [
    "<h1>Looping with Index</h1>\n",
    "    <ul>\n",
    "        <li>Looping with index means going through each item in a list while also knowing the position (index) of each item.\n",
    "        <li>It’s useful when you need both the position and the value of each item in a list, like when you want to update, track, or compare items based on their position.\n",
    "        <li>Use range(len(list)) to create numbers representing the positions.\n",
    "        <break>Inside the loop, use the index to access the item and its position.\n",
    "        <break>Example: for i in range(len(lst)): print(i, lst[i]) — this shows both the index and the item."
   ]
  },
  {
   "cell_type": "code",
   "execution_count": 2,
   "metadata": {},
   "outputs": [
    {
     "name": "stdout",
     "output_type": "stream",
     "text": [
      "Index: 1\n",
      "Element: 4\n",
      "Index: 2\n",
      "Element: 6\n",
      "Index: 3\n",
      "Element: 7\n",
      "Index: 4\n",
      "Element: 2\n"
     ]
    }
   ],
   "source": [
    "lst = [4, 6, 7, 2]\n",
    "\n",
    "for i in range(len(lst)):  # Loop through each index\n",
    "    print('Index: ' + str(i + 1))  # Print the index, starting from 1\n",
    "    print('Element: ' + str(lst[i]))  # Print the element at that index\n"
   ]
  },
  {
   "cell_type": "markdown",
   "metadata": {},
   "source": [
    "<h2>Practice Problem</h2>\n",
    "    <p style=\"font-size: 20px;\">Here, there are four names in a list. Write code so that when the code runs, the index will be listed and the element(names) will be written under it."
   ]
  },
  {
   "cell_type": "code",
   "execution_count": 4,
   "metadata": {},
   "outputs": [
    {
     "name": "stdout",
     "output_type": "stream",
     "text": [
      "Index: 1\n",
      "names: Alice\n",
      "Index: 2\n",
      "names: Bob\n",
      "Index: 3\n",
      "names: Charlie\n",
      "Index: 4\n",
      "names: Diana\n"
     ]
    }
   ],
   "source": [
    "# List of names\n",
    "names = [\"Alice\", \"Bob\", \"Charlie\", \"Diana\"]\n",
    "\n",
    "# Write a loop to print the index and name at that index\n"
   ]
  },
  {
   "cell_type": "markdown",
   "metadata": {},
   "source": [
    "<h2>Answer:</h2>"
   ]
  },
  {
   "cell_type": "markdown",
   "metadata": {},
   "source": [
    "names = [\"Alice\", \"Bob\", \"Charlie\", \"Diana\"]\n",
    "\n",
    "# Write a loop to print the index and name at that index\n",
    "\n",
    "for i in range(len(names)):  # Loop through each index\n",
    "    print('Index: ' + str(i + 1))  # Print the index, starting from 1\n",
    "    print('names: ' + str(names[i]))  # Print the element at that index"
   ]
  }
 ],
 "metadata": {
  "kernelspec": {
   "display_name": "venv",
   "language": "python",
   "name": "python3"
  },
  "language_info": {
   "codemirror_mode": {
    "name": "ipython",
    "version": 3
   },
   "file_extension": ".py",
   "mimetype": "text/x-python",
   "name": "python",
   "nbconvert_exporter": "python",
   "pygments_lexer": "ipython3",
   "version": "3.12.3"
  }
 },
 "nbformat": 4,
 "nbformat_minor": 2
}
