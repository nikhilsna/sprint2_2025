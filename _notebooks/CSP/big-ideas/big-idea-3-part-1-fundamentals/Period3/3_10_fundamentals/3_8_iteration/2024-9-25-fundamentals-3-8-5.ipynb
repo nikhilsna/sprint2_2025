{
 "cells": [
  {
   "cell_type": "markdown",
   "metadata": {},
   "source": [
    "--- \n",
    "layout: page\n",
    "title: Looping with Index\n",
    "description: plan\n",
    "hide: false\n",
    "---"
   ]
  },
  {
   "cell_type": "code",
   "execution_count": null,
   "metadata": {},
   "outputs": [],
   "source": [
    "#he range(len(lst)) generates a sequence of index numbers, allowing the loop to iterate through each index of the list lst.\n",
    "#Inside the loop, i represents the current index, which is used to access both the index (i) and the element at that index (lst[i]).\n",
    "#The code prints the current index and the corresponding element in the list during each iteration, displaying the position and value.\n",
    "\n",
    "lst = [4, 6, 7, 2]\n",
    "\n",
    "for i in range(len(lst)):  # Loop through each index\n",
    "    print('Index: ' + str(i))  # Print the index\n",
    "    print('Element: ' + str(lst[i]))  # Print the element at that index\n"
   ]
  },
  {
   "cell_type": "code",
   "execution_count": null,
   "metadata": {},
   "outputs": [],
   "source": [
    "# List of names\n",
    "names = [\"Alice\", \"Bob\", \"Charlie\", \"Diana\"]\n",
    "\n",
    "# Write a loop to print the index and name at that index\n"
   ]
  },
  {
   "cell_type": "code",
   "execution_count": null,
   "metadata": {},
   "outputs": [],
   "source": [
    "# List of prices\n",
    "prices = [5.99, 12.50, 3.75, 9.99]\n",
    "\n",
    "# Your task:\n",
    "# 1. Write a loop to print the index and price at each index\n",
    "# 2. Calculate and print the total price of all items"
   ]
  },
  {
   "cell_type": "markdown",
   "metadata": {},
   "source": [
    "<script src=\"https://utteranc.es/client.js\"\n",
    "        repo=\"nikhilsna/Sprint2_2025\"\n",
    "        issue-term=\"pathname\"\n",
    "        theme=\"github-light\"\n",
    "        crossorigin=\"anonymous\"\n",
    "        async>\n",
    "</script>"
   ]
  }
 ],
 "metadata": {
  "kernelspec": {
   "display_name": "venv",
   "language": "python",
   "name": "python3"
  },
  "language_info": {
   "name": "python",
   "version": "3.12.3"
  }
 },
 "nbformat": 4,
 "nbformat_minor": 2
}
