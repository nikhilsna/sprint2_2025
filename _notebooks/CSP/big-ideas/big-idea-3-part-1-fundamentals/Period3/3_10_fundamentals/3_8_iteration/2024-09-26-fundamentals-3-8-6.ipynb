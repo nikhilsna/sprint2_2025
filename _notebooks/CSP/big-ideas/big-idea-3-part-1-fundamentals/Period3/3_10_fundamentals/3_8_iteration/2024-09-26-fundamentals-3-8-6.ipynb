{
 "cells": [
  {
   "cell_type": "raw",
   "metadata": {},
   "source": [
    "---\n",
    "layout: post \n",
    "title: Looping Through Lists And Dictionaries\n",
    "permalink: /itloop/\n",
    "toc: true\n",
    "---"
   ]
  },
  {
   "cell_type": "code",
   "execution_count": 1,
   "metadata": {},
   "outputs": [
    {
     "name": "stdout",
     "output_type": "stream",
     "text": [
      "red\n",
      "blue\n",
      "green\n",
      "yellow\n",
      "apple : 3\n",
      "banana : 5\n",
      "cherry : 7\n"
     ]
    }
   ],
   "source": [
    "# In programming, loops are used to iterate over collections of data, such as lists or dictionaries.\n",
    "# This allows us to perform operations on each item without manually writing repetitive code.\n",
    "# In this example, we will iterate over a list of colors and a dictionary containing fruit details.\n",
    "\n",
    "# Pseudocode:\n",
    "# colors ← [\"red\", \"blue\", \"green\", \"yellow\"]\n",
    "# FOR EACH color IN colors:\n",
    "#     DISPLAY color\n",
    "# END FOR\n",
    "\n",
    "\n",
    "# Example 1: Loop through a list of colors\n",
    "colors = [\"red\", \"blue\", \"green\", \"yellow\"]\n",
    "for color in colors:\n",
    "    print(color)  # Display each color\n",
    "\n",
    "# Example 2: Loop through a fruit dictionary\n",
    "fruits = {\"apple\": 3, \"banana\": 5, \"cherry\": 7}  # Number of each type of fruit\n",
    "for fruit, quantity in fruits.items():\n",
    "    print(fruit, \":\", quantity)  # Display each fruit and its quantity\n",
    "\n",
    "    #Problem: Looping Through a List\n",
    "    #Create a list of your three favorite foods. Write a loop to display each food item in the list.\n",
    "\n",
    "    "
   ]
  },
  {
   "cell_type": "markdown",
   "metadata": {},
   "source": [
    "<script src=\"https://utteranc.es/client.js\"\n",
    "        repo=\"nikhilsna/Sprint2_2025\"\n",
    "        issue-term=\"pathname\"\n",
    "        theme=\"github-light\"\n",
    "        crossorigin=\"anonymous\"\n",
    "        async>\n",
    "</script>"
   ]
  }
 ],
 "metadata": {
  "kernelspec": {
   "display_name": "base",
   "language": "python",
   "name": "python3"
  },
  "language_info": {
   "codemirror_mode": {
    "name": "ipython",
    "version": 3
   },
   "file_extension": ".py",
   "mimetype": "text/x-python",
   "name": "python",
   "nbconvert_exporter": "python",
   "pygments_lexer": "ipython3",
   "version": "3.12.3"
  }
 },
 "nbformat": 4,
 "nbformat_minor": 2
}
