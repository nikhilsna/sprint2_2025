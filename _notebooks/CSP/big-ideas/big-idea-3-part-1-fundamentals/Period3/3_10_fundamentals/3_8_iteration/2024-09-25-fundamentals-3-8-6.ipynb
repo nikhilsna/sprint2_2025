{
 "cells": [
  {
   "cell_type": "markdown",
   "metadata": {},
   "source": [
    "---\n",
    "toc: false\n",
    "comments: true\n",
    "layout: post\n",
    "title: 3.8 Nested If statements\n",
    "description: Learn about nested if statements in loops\n",
    "permalink: /csp/big-idea/p3/3-8-6\n",
    "categories: [CSP Big Ideas]\n",
    "author:  Nikhil, Hithin, Armaghan, Elliot\n",
    "menu: nav/csp_units/csp_unit3_p3_fundamentals.html\n",
    "---"
   ]
  },
  {
   "cell_type": "markdown",
   "metadata": {},
   "source": [
    "<h1>Nested If Statements</h1>\n",
    "<ul>\n",
    "        <li>A nested if statement is an if statement inside another if, else if, or for loop.\n",
    "        <li>You can use nested if statements in a for loop to run different code based on several conditions.\n",
    "        <li>A for loop goes through a collection (like a list) and checks conditions using if statements each time.\n",
    "        <li>The code runs based on the results of earlier code.\n"
   ]
  },
  {
   "cell_type": "code",
   "execution_count": null,
   "metadata": {},
   "outputs": [],
   "source": [
    "numbers = [1, 2, 3, 4, 5, 6, 7, 8, 9, 10]\n",
    "\n",
    "\n",
    "for num in numbers:\n",
    "    if num % 2 == 0:  # Check if the number is even\n",
    "        if num > 5:  # Another condition inside the first if statement\n",
    "            print(num, \"is even and greater than 5\")\n",
    "        else:\n",
    "            print(num, \"is even and less than or equal to 5\")\n",
    "    else:  # If it's not even, it must be odd\n",
    "        print(num, \"is odd\")\n"
   ]
  },
  {
   "cell_type": "markdown",
   "metadata": {},
   "source": [
    "<h2>Practice Problem<h2>\n",
    "    <p style=\"font-size: 20px;\">Here, there are four numbers listed. Using your knowledge of nested if statements, write code that will print the positive numbers in one group and the negative numbers as one group.\n",
    "     <ul>Helpful Hints\n",
    "            <li>the command that checks if a number is negative is \"if num<0\"\n",
    "       "
   ]
  },
  {
   "cell_type": "code",
   "execution_count": null,
   "metadata": {},
   "outputs": [],
   "source": [
    "# List of numbers\n",
    "numbers = [10, -5, 7, -3]\n",
    "\n",
    "# Your task: Write a loop with nested if statements to print whether each number is positive or negative\n"
   ]
  },
  {
   "cell_type": "code",
   "execution_count": null,
   "metadata": {},
   "outputs": [],
   "source": [
    "<h2>Answer to the Practice Problem</h2>\n",
    "numbers = [0, -3, 5, -8, 2, 0, 7, -1]\n",
    "for num in numbers:\n",
    "    if num == 0:  # Check if the number is zero\n",
    "        print(num, \"is zero\")\n",
    "    else:\n",
    "        if num > 0:  # Check if the number is positive\n",
    "            if num % 2 == 0:  # Nested if to check if it's even\n",
    "                print(num, \"is positive and even\")\n",
    "            else:  # If it's not even, it must be odd\n",
    "                print(num, \"is positive and odd\")\n",
    "        else:  # If it's not positive, it must be negative\n",
    "            print(num, \"is negative\")"
   ]
  }
 ],
 "metadata": {
  "kernelspec": {
   "display_name": "venv",
   "language": "python",
   "name": "python3"
  },
  "language_info": {
   "codemirror_mode": {
    "name": "ipython",
    "version": 3
   },
   "file_extension": ".py",
   "mimetype": "text/x-python",
   "name": "python",
   "nbconvert_exporter": "python",
   "pygments_lexer": "ipython3",
   "version": "3.12.3"
  }
 },
 "nbformat": 4,
 "nbformat_minor": 2
}
