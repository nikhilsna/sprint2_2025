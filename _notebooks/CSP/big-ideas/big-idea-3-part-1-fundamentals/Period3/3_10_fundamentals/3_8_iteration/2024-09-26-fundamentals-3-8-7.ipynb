{
 "cells": [
  {
   "cell_type": "raw",
   "metadata": {
    "vscode": {
     "languageId": "raw"
    }
   },
   "source": [
    "---\n",
    "toc: false\n",
    "comments: true\n",
    "layout: post\n",
    "title: 3.8 Breaking Loops\n",
    "description: Learn to break loops using conditional statements\n",
    "permalink: /csp/big-idea/p3/3-8-7\n",
    "categories: [CSP Big Ideas]\n",
    "author:  Nikhil, Hithin, Armaghan, Elliot\n",
    "menu: nav/csp_units/csp_unit3_p3_fundamentals.html\n",
    "---"
   ]
  },
  {
   "cell_type": "markdown",
   "metadata": {},
   "source": [
    "# Basic o"
   ]
  },
  {
   "cell_type": "code",
   "execution_count": 1,
   "metadata": {},
   "outputs": [
    {
     "name": "stdout",
     "output_type": "stream",
     "text": [
      "1\n",
      "2\n",
      "4\n"
     ]
    }
   ],
   "source": [
    "#numbers ← [1, 2, 3, 4, 5]\n",
    "#FOR EACH num IN numbers:\n",
    " \n",
    "#    IF num EQUALS 3:\n",
    "#        CONTINUE\n",
    "#    IF num EQUALS 5:\n",
    "#       BREAK \n",
    "#    DISPLAY num\n",
    "#END FOR\n",
    "\n",
    "\n",
    "# Example 8: For loop with continue and break\n",
    "numbers = [1, 2, 3, 4, 5]\n",
    "for num in numbers:\n",
    "    if num == 3:\n",
    "        continue  # Skip the number 3\n",
    "    if num == 5:\n",
    "        break  # Exit the loop when 5 is encountered\n",
    "    print(num)"
   ]
  },
  {
   "cell_type": "code",
   "execution_count": 9,
   "metadata": {},
   "outputs": [
    {
     "name": "stdout",
     "output_type": "stream",
     "text": [
      "10.0\n",
      "5.0\n",
      "Type error\n",
      "2.5\n",
      "Division by zero\n",
      "Type error\n"
     ]
    }
   ],
   "source": [
    "# APCSP Pseudo-Code: Handling Errors in a For Loop\n",
    "\n",
    "#numbers ← [1, 2, \"three\", 4, 0, \"five\"]\n",
    "#FOR EACH item IN numbers:\n",
    "#    TRY:\n",
    "#        DISPLAY 10 / item\n",
    "#    CATCH ZeroDivisionError:\n",
    "#        DISPLAY \"Division by zero\"\n",
    "#    CATCH TypeError:\n",
    "#        DISPLAY \"Type error\"\n",
    "#    END TRY\n",
    "#END FOR\n",
    "\n",
    "\n",
    "numbers = [1, 2, \"three\", 4, 0, \"five\"]\n",
    "\n",
    "for item in numbers:\n",
    "    try:\n",
    "        print(10 / item)\n",
    "    except ZeroDivisionError: #Type of error: Dividing by Zero\n",
    "        print(\"Division by zero\")\n",
    "    except TypeError: #Type of error: Dividing by something that isn't a number\n",
    "        print(\"Type error\")\n"
   ]
  }
 ],
 "metadata": {
  "kernelspec": {
   "display_name": "Python 3",
   "language": "python",
   "name": "python3"
  },
  "language_info": {
   "codemirror_mode": {
    "name": "ipython",
    "version": 3
   },
   "file_extension": ".py",
   "mimetype": "text/x-python",
   "name": "python",
   "nbconvert_exporter": "python",
   "pygments_lexer": "ipython3",
   "version": "3.12.5"
  }
 },
 "nbformat": 4,
 "nbformat_minor": 2
}
