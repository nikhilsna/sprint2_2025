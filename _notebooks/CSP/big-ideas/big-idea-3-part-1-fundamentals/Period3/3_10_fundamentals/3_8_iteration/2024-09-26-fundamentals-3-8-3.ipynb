{
 "cells": [
  {
   "cell_type": "markdown",
   "metadata": {},
   "source": [
    "---\n",
    "toc: false\n",
    "comments: true\n",
    "layout: post\n",
    "title: 3.8 While Loops\n",
    "description: Learn to use while loops to repeat code\n",
    "permalink: /csp/big-idea/p3/3-8-3\n",
    "categories: [CSP Big Ideas]\n",
    "author:  Nikhil, Hithin, Armaghan, Elliot\n",
    "menu: nav/csp_units/csp_unit3_p3_fundamentals.html\n",
    "---"
   ]
  },
  {
   "cell_type": "code",
   "execution_count": 1,
   "metadata": {},
   "outputs": [
    {
     "name": "stdout",
     "output_type": "stream",
     "text": [
      "This is message number 1\n",
      "This is message number 2\n",
      "This is message number 3\n"
     ]
    }
   ],
   "source": [
    "# A while loop is a programming structure that allows us to execute a block of code repeatedly as long as a condition is true.\n",
    "# This can be particularly useful for counting or accumulating values.\n",
    "# In this example, we will use a while loop to display letters from 'A' to 'E' and calculate their corresponding ASCII values.\n",
    "\n",
    "# Pseudocode:\n",
    "# count ← 1\n",
    "# WHILE count IS LESS THAN OR EQUAL TO 3:\n",
    "#     DISPLAY \"This is message number\" count\n",
    "#     count ← count + 1\n",
    "# END WHILE\n",
    "\n",
    "\n",
    "# Python Code:\n",
    "count = 1  # Start counting from 1\n",
    "while count <= 3:  # Continue while count is 3 or less\n",
    "    print(\"This is message number\", count)  # Display the current message number\n",
    "    count += 1  # Increment count by 1\n",
    "\n",
    "#Problem: Infinite Loop with a While Statement\n",
    "#Write a while loop that continuously prints \"Hello, World!\" until you stop the program.\n"
   ]
  }
 ],
 "metadata": {
  "kernelspec": {
   "display_name": "base",
   "language": "python",
   "name": "python3"
  },
  "language_info": {
   "codemirror_mode": {
    "name": "ipython",
    "version": 3
   },
   "file_extension": ".py",
   "mimetype": "text/x-python",
   "name": "python",
   "nbconvert_exporter": "python",
   "pygments_lexer": "ipython3",
   "version": "3.12.4"
  }
 },
 "nbformat": 4,
 "nbformat_minor": 2
}
